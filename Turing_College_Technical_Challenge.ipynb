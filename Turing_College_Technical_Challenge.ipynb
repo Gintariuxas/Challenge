{
  "nbformat": 4,
  "nbformat_minor": 0,
  "metadata": {
    "kernelspec": {
      "display_name": "Python 3",
      "language": "python",
      "name": "python3"
    },
    "language_info": {
      "codemirror_mode": {
        "name": "ipython",
        "version": 3
      },
      "file_extension": ".py",
      "mimetype": "text/x-python",
      "name": "python",
      "nbconvert_exporter": "python",
      "pygments_lexer": "ipython3",
      "version": "3.8.5"
    },
    "colab": {
      "name": "Turing College Technical Challenge.ipynb",
      "provenance": [],
      "collapsed_sections": [],
      "include_colab_link": true
    }
  },
  "cells": [
    {
      "cell_type": "markdown",
      "metadata": {
        "id": "view-in-github",
        "colab_type": "text"
      },
      "source": [
        "<a href=\"https://colab.research.google.com/github/Gintariuxas/Challenge/blob/main/Turing_College_Technical_Challenge.ipynb\" target=\"_parent\"><img src=\"https://colab.research.google.com/assets/colab-badge.svg\" alt=\"Open In Colab\"/></a>"
      ]
    },
    {
      "cell_type": "markdown",
      "metadata": {
        "id": "4SX9m5APG18h"
      },
      "source": [
        "# Turing College Technical Challenge"
      ]
    },
    {
      "cell_type": "markdown",
      "metadata": {
        "id": "jNJuqBBVG18j"
      },
      "source": [
        "## Data Science Fundamentals - Data Wrangling and Storytelling"
      ]
    },
    {
      "cell_type": "markdown",
      "metadata": {
        "id": "J7W0B6sXG18k"
      },
      "source": [
        "Welcome to the Turing College tech challenge notebook! It is based on the first notebook of a previous Turing College’s data science course. While the course structure has changed quite significantly now, we invite you to go through the exercises and the learning material to get a better feeling of how learning with our self-driven educational model will suit you. The technical challenge will allow us to assess how well you can learn the new concepts presented here.\n",
        "\n",
        "This notebook focuses on EDA - Exploratory Data Analysis. You will learn how to analyze data, generate statistics, and make informative eye-catching visualizations."
      ]
    },
    {
      "cell_type": "markdown",
      "metadata": {
        "id": "90qdES7-G18l"
      },
      "source": [
        "## Learning outcomes:\n",
        "\n",
        "- Submit assignments via Github (save work to Github)\n",
        "- Read datasets from CSVs for analysis with Pandas\n",
        "- Use basic Pandas functions for Exploratory Data Analysis (EDA)\n",
        "- Generate Basic Visualizations with Pandas - line charts, scatter plots, histograms."
      ]
    },
    {
      "cell_type": "markdown",
      "metadata": {
        "id": "6eXNDjlLG18l"
      },
      "source": [
        "## Working with Github"
      ]
    },
    {
      "cell_type": "markdown",
      "metadata": {
        "id": "rVB9Uo5JG18l"
      },
      "source": [
        "Even though saving Colab notebooks is very simple, every data scientist should first understand what GitHub is and how it can be used fully. Go through [uploading your project to Github](https://lab.github.com/githubtraining/uploading-your-project-to-github) tutorial."
      ]
    },
    {
      "cell_type": "markdown",
      "metadata": {
        "id": "qftyuUCaG18l"
      },
      "source": [
        "### Exercise - your first commit"
      ]
    },
    {
      "cell_type": "markdown",
      "metadata": {
        "id": "JIve3Y0xG18m"
      },
      "source": [
        "Your first task is to store a sample file on a new public personal GitHub repository. It can be a simple text file that you make.\n",
        "\n",
        "Once you have stored the sample file as practice, it's time to push this notebook to your GitHub repository to save progress. In this notebook select \"File\"->\"Save a copy in GitHub\" and select the repository you have just created for the test file. You will most likely need to allow Colab to access your GitHub - do that. Write a meaningful commit message, e.g. \"First commit of demo notebook\". \n",
        "\n",
        "Now, whenever you make changes to the notebook, select \"Save a copy to GitGub\" and select the same repository and filename - this will create a new commit (remember to set the commit message to something useful and informative - a sentence explaining what was done). Make sure you commit regularly after you complete the exercises - this will prevent you from losing work and let us see your progress better.\n",
        "\n",
        "To test whether saving of the notebook works, change the quoted text in the piece of code below, then save the notebook. Close the window and open the notebook again (you can do this using https://colab.research.google.com/ , selecting the 'GitHub' tab and adding the github link to your notebook)."
      ]
    },
    {
      "cell_type": "code",
      "metadata": {
        "id": "YgrbXZjEKgim",
        "colab": {
          "base_uri": "https://localhost:8080/"
        },
        "outputId": "012a14fe-9ff4-4953-ca90-81aa26455598"
      },
      "source": [
        "print('Exercise - questions')"
      ],
      "execution_count": null,
      "outputs": [
        {
          "output_type": "stream",
          "text": [
            "Exercise - slice and measure\n"
          ],
          "name": "stdout"
        }
      ]
    },
    {
      "cell_type": "markdown",
      "metadata": {
        "id": "B5VtJ3BhLxnV"
      },
      "source": [
        "\n",
        "The link to your repository is what you will need to submit to progress further through the admissions process. Keep in mind that the full history of the notebook can be seen in GitHub - so we have a way to check if you follow the rule of commiting often with useful messages :) Final note - make sure the repository is public and not private."
      ]
    },
    {
      "cell_type": "markdown",
      "metadata": {
        "id": "HcnVbAikG18m"
      },
      "source": [
        "## Introduction to Pandas"
      ]
    },
    {
      "cell_type": "markdown",
      "metadata": {
        "id": "CKXC070NG18m"
      },
      "source": [
        "<center><img width=\"300\" src=\"https://upload.wikimedia.org/wikipedia/commons/thumb/e/ed/Pandas_logo.svg/1200px-Pandas_logo.svg.png\" /></center>"
      ]
    },
    {
      "cell_type": "markdown",
      "metadata": {
        "id": "0tJnORYtG18m"
      },
      "source": [
        "To explore the data, we will use Pandas. Pandas is the most popular Python library for [EDA (exploratory data analysis)](https://towardsdatascience.com/exploratory-data-analysis-8fc1cb20fd15). No matter how complex the EDA, everything starts with loading a dataset. Get a grip of [pandas basics](https://www.learnpython.org/en/Pandas_Basics) and go through [importing a CSV dataset into Pandas](https://www.datacamp.com/community/tutorials/pandas-read-csv) tutorial, and let's start with loading the dataset from a CSV.\n",
        "\n",
        "Key takeways:\n",
        "* Pandas primary data structure is a `Dataframe`.\n",
        "* Dictionary of lists == Pandas DataFrame (conceptually). You can treat each column as a key, while column contents - as a list of values.\n",
        "* Pandas Dataframes unlock a vast amount of operations like grouping, filtering, calculating means, quantiles, unlike standard Python data structures."
      ]
    },
    {
      "cell_type": "markdown",
      "metadata": {
        "id": "euaUQXxvG18n"
      },
      "source": [
        "\n",
        "### Exercise - loading a dataset"
      ]
    },
    {
      "cell_type": "markdown",
      "metadata": {
        "id": "d3fNXIXPG18n"
      },
      "source": [
        "In this exercise, you will learn to load a Pandas dataset. We'll explore 2 methods to load a dataset - from a remote host and from your Colab notebook's local environment.\n",
        "\n",
        "1. Load a [remote](https://raw.githubusercontent.com/fivethirtyeight/data/master/nba-elo/nbaallelo.csv) dataset into Pandas and assign it to a variable `df1`.\n",
        "2. Download the same dataset using the provided `wget` command. Read the dataset with Pandas and assign it to a variable `df2`. "
      ]
    },
    {
      "cell_type": "code",
      "metadata": {
        "id": "dpMJZT6CG18n",
        "colab": {
          "base_uri": "https://localhost:8080/"
        },
        "outputId": "e5969c99-c354-4647-b667-14f067621d13"
      },
      "source": [
        "# wget is a bash command line program, which is used to download files or website sources from the internet\n",
        "!wget https://raw.githubusercontent.com/fivethirtyeight/data/master/nba-elo/nbaallelo.csv -O nbaaellelo.csv\n",
        "# df1\n",
        "import pandas as pd\n",
        "url = \"https://raw.githubusercontent.com/fivethirtyeight/data/master/nba-elo/nbaallelo.csv\"\n",
        "df1 = pd.read_csv(url)\n",
        "# df2\n",
        "df2 = pd.read_csv(\"nbaaellelo.csv\")\n"
      ],
      "execution_count": 108,
      "outputs": [
        {
          "output_type": "stream",
          "text": [
            "--2021-07-12 13:57:35--  https://raw.githubusercontent.com/fivethirtyeight/data/master/nba-elo/nbaallelo.csv\n",
            "Resolving raw.githubusercontent.com (raw.githubusercontent.com)... 185.199.108.133, 185.199.109.133, 185.199.110.133, ...\n",
            "Connecting to raw.githubusercontent.com (raw.githubusercontent.com)|185.199.108.133|:443... connected.\n",
            "HTTP request sent, awaiting response... 200 OK\n",
            "Length: 18173265 (17M) [text/plain]\n",
            "Saving to: ‘nbaaellelo.csv’\n",
            "\n",
            "nbaaellelo.csv      100%[===================>]  17.33M  --.-KB/s    in 0.09s   \n",
            "\n",
            "2021-07-12 13:57:35 (199 MB/s) - ‘nbaaellelo.csv’ saved [18173265/18173265]\n",
            "\n"
          ],
          "name": "stdout"
        }
      ]
    },
    {
      "cell_type": "code",
      "metadata": {
        "id": "iKv_wYQbG18o"
      },
      "source": [
        "assert df1.equals(df2)"
      ],
      "execution_count": 109,
      "outputs": []
    },
    {
      "cell_type": "code",
      "metadata": {
        "id": "2s3kyY1GG18o",
        "colab": {
          "base_uri": "https://localhost:8080/",
          "height": 224
        },
        "outputId": "1b9ceb7c-3c9c-4fd4-bc39-f8ff8095aace"
      },
      "source": [
        "df1.head(5)"
      ],
      "execution_count": 110,
      "outputs": [
        {
          "output_type": "execute_result",
          "data": {
            "text/html": [
              "<div>\n",
              "<style scoped>\n",
              "    .dataframe tbody tr th:only-of-type {\n",
              "        vertical-align: middle;\n",
              "    }\n",
              "\n",
              "    .dataframe tbody tr th {\n",
              "        vertical-align: top;\n",
              "    }\n",
              "\n",
              "    .dataframe thead th {\n",
              "        text-align: right;\n",
              "    }\n",
              "</style>\n",
              "<table border=\"1\" class=\"dataframe\">\n",
              "  <thead>\n",
              "    <tr style=\"text-align: right;\">\n",
              "      <th></th>\n",
              "      <th>gameorder</th>\n",
              "      <th>game_id</th>\n",
              "      <th>lg_id</th>\n",
              "      <th>_iscopy</th>\n",
              "      <th>year_id</th>\n",
              "      <th>date_game</th>\n",
              "      <th>seasongame</th>\n",
              "      <th>is_playoffs</th>\n",
              "      <th>team_id</th>\n",
              "      <th>fran_id</th>\n",
              "      <th>pts</th>\n",
              "      <th>elo_i</th>\n",
              "      <th>elo_n</th>\n",
              "      <th>win_equiv</th>\n",
              "      <th>opp_id</th>\n",
              "      <th>opp_fran</th>\n",
              "      <th>opp_pts</th>\n",
              "      <th>opp_elo_i</th>\n",
              "      <th>opp_elo_n</th>\n",
              "      <th>game_location</th>\n",
              "      <th>game_result</th>\n",
              "      <th>forecast</th>\n",
              "      <th>notes</th>\n",
              "    </tr>\n",
              "  </thead>\n",
              "  <tbody>\n",
              "    <tr>\n",
              "      <th>0</th>\n",
              "      <td>1</td>\n",
              "      <td>194611010TRH</td>\n",
              "      <td>NBA</td>\n",
              "      <td>0</td>\n",
              "      <td>1947</td>\n",
              "      <td>11/1/1946</td>\n",
              "      <td>1</td>\n",
              "      <td>0</td>\n",
              "      <td>TRH</td>\n",
              "      <td>Huskies</td>\n",
              "      <td>66</td>\n",
              "      <td>1300.0000</td>\n",
              "      <td>1293.2767</td>\n",
              "      <td>40.294830</td>\n",
              "      <td>NYK</td>\n",
              "      <td>Knicks</td>\n",
              "      <td>68</td>\n",
              "      <td>1300.0000</td>\n",
              "      <td>1306.7233</td>\n",
              "      <td>H</td>\n",
              "      <td>L</td>\n",
              "      <td>0.640065</td>\n",
              "      <td>NaN</td>\n",
              "    </tr>\n",
              "    <tr>\n",
              "      <th>1</th>\n",
              "      <td>1</td>\n",
              "      <td>194611010TRH</td>\n",
              "      <td>NBA</td>\n",
              "      <td>1</td>\n",
              "      <td>1947</td>\n",
              "      <td>11/1/1946</td>\n",
              "      <td>1</td>\n",
              "      <td>0</td>\n",
              "      <td>NYK</td>\n",
              "      <td>Knicks</td>\n",
              "      <td>68</td>\n",
              "      <td>1300.0000</td>\n",
              "      <td>1306.7233</td>\n",
              "      <td>41.705170</td>\n",
              "      <td>TRH</td>\n",
              "      <td>Huskies</td>\n",
              "      <td>66</td>\n",
              "      <td>1300.0000</td>\n",
              "      <td>1293.2767</td>\n",
              "      <td>A</td>\n",
              "      <td>W</td>\n",
              "      <td>0.359935</td>\n",
              "      <td>NaN</td>\n",
              "    </tr>\n",
              "    <tr>\n",
              "      <th>2</th>\n",
              "      <td>2</td>\n",
              "      <td>194611020CHS</td>\n",
              "      <td>NBA</td>\n",
              "      <td>0</td>\n",
              "      <td>1947</td>\n",
              "      <td>11/2/1946</td>\n",
              "      <td>1</td>\n",
              "      <td>0</td>\n",
              "      <td>CHS</td>\n",
              "      <td>Stags</td>\n",
              "      <td>63</td>\n",
              "      <td>1300.0000</td>\n",
              "      <td>1309.6521</td>\n",
              "      <td>42.012257</td>\n",
              "      <td>NYK</td>\n",
              "      <td>Knicks</td>\n",
              "      <td>47</td>\n",
              "      <td>1306.7233</td>\n",
              "      <td>1297.0712</td>\n",
              "      <td>H</td>\n",
              "      <td>W</td>\n",
              "      <td>0.631101</td>\n",
              "      <td>NaN</td>\n",
              "    </tr>\n",
              "    <tr>\n",
              "      <th>3</th>\n",
              "      <td>2</td>\n",
              "      <td>194611020CHS</td>\n",
              "      <td>NBA</td>\n",
              "      <td>1</td>\n",
              "      <td>1947</td>\n",
              "      <td>11/2/1946</td>\n",
              "      <td>2</td>\n",
              "      <td>0</td>\n",
              "      <td>NYK</td>\n",
              "      <td>Knicks</td>\n",
              "      <td>47</td>\n",
              "      <td>1306.7233</td>\n",
              "      <td>1297.0712</td>\n",
              "      <td>40.692783</td>\n",
              "      <td>CHS</td>\n",
              "      <td>Stags</td>\n",
              "      <td>63</td>\n",
              "      <td>1300.0000</td>\n",
              "      <td>1309.6521</td>\n",
              "      <td>A</td>\n",
              "      <td>L</td>\n",
              "      <td>0.368899</td>\n",
              "      <td>NaN</td>\n",
              "    </tr>\n",
              "    <tr>\n",
              "      <th>4</th>\n",
              "      <td>3</td>\n",
              "      <td>194611020DTF</td>\n",
              "      <td>NBA</td>\n",
              "      <td>0</td>\n",
              "      <td>1947</td>\n",
              "      <td>11/2/1946</td>\n",
              "      <td>1</td>\n",
              "      <td>0</td>\n",
              "      <td>DTF</td>\n",
              "      <td>Falcons</td>\n",
              "      <td>33</td>\n",
              "      <td>1300.0000</td>\n",
              "      <td>1279.6189</td>\n",
              "      <td>38.864048</td>\n",
              "      <td>WSC</td>\n",
              "      <td>Capitols</td>\n",
              "      <td>50</td>\n",
              "      <td>1300.0000</td>\n",
              "      <td>1320.3811</td>\n",
              "      <td>H</td>\n",
              "      <td>L</td>\n",
              "      <td>0.640065</td>\n",
              "      <td>NaN</td>\n",
              "    </tr>\n",
              "  </tbody>\n",
              "</table>\n",
              "</div>"
            ],
            "text/plain": [
              "   gameorder       game_id lg_id  ...  game_result  forecast notes\n",
              "0          1  194611010TRH   NBA  ...            L  0.640065   NaN\n",
              "1          1  194611010TRH   NBA  ...            W  0.359935   NaN\n",
              "2          2  194611020CHS   NBA  ...            W  0.631101   NaN\n",
              "3          2  194611020CHS   NBA  ...            L  0.368899   NaN\n",
              "4          3  194611020DTF   NBA  ...            L  0.640065   NaN\n",
              "\n",
              "[5 rows x 23 columns]"
            ]
          },
          "metadata": {
            "tags": []
          },
          "execution_count": 110
        }
      ]
    },
    {
      "cell_type": "markdown",
      "metadata": {
        "id": "KAqVuTebG18p"
      },
      "source": [
        "When a dataframe has too many rows to fit the page, it's often convenient to `transpose` the dataframe with `.T`. Try it!"
      ]
    },
    {
      "cell_type": "code",
      "metadata": {
        "id": "kfCFbK2yG18p",
        "colab": {
          "base_uri": "https://localhost:8080/",
          "height": 762
        },
        "outputId": "18b1f128-835e-4bc8-f8d9-10d39a1f3c85"
      },
      "source": [
        "df1.head().T"
      ],
      "execution_count": 111,
      "outputs": [
        {
          "output_type": "execute_result",
          "data": {
            "text/html": [
              "<div>\n",
              "<style scoped>\n",
              "    .dataframe tbody tr th:only-of-type {\n",
              "        vertical-align: middle;\n",
              "    }\n",
              "\n",
              "    .dataframe tbody tr th {\n",
              "        vertical-align: top;\n",
              "    }\n",
              "\n",
              "    .dataframe thead th {\n",
              "        text-align: right;\n",
              "    }\n",
              "</style>\n",
              "<table border=\"1\" class=\"dataframe\">\n",
              "  <thead>\n",
              "    <tr style=\"text-align: right;\">\n",
              "      <th></th>\n",
              "      <th>0</th>\n",
              "      <th>1</th>\n",
              "      <th>2</th>\n",
              "      <th>3</th>\n",
              "      <th>4</th>\n",
              "    </tr>\n",
              "  </thead>\n",
              "  <tbody>\n",
              "    <tr>\n",
              "      <th>gameorder</th>\n",
              "      <td>1</td>\n",
              "      <td>1</td>\n",
              "      <td>2</td>\n",
              "      <td>2</td>\n",
              "      <td>3</td>\n",
              "    </tr>\n",
              "    <tr>\n",
              "      <th>game_id</th>\n",
              "      <td>194611010TRH</td>\n",
              "      <td>194611010TRH</td>\n",
              "      <td>194611020CHS</td>\n",
              "      <td>194611020CHS</td>\n",
              "      <td>194611020DTF</td>\n",
              "    </tr>\n",
              "    <tr>\n",
              "      <th>lg_id</th>\n",
              "      <td>NBA</td>\n",
              "      <td>NBA</td>\n",
              "      <td>NBA</td>\n",
              "      <td>NBA</td>\n",
              "      <td>NBA</td>\n",
              "    </tr>\n",
              "    <tr>\n",
              "      <th>_iscopy</th>\n",
              "      <td>0</td>\n",
              "      <td>1</td>\n",
              "      <td>0</td>\n",
              "      <td>1</td>\n",
              "      <td>0</td>\n",
              "    </tr>\n",
              "    <tr>\n",
              "      <th>year_id</th>\n",
              "      <td>1947</td>\n",
              "      <td>1947</td>\n",
              "      <td>1947</td>\n",
              "      <td>1947</td>\n",
              "      <td>1947</td>\n",
              "    </tr>\n",
              "    <tr>\n",
              "      <th>date_game</th>\n",
              "      <td>11/1/1946</td>\n",
              "      <td>11/1/1946</td>\n",
              "      <td>11/2/1946</td>\n",
              "      <td>11/2/1946</td>\n",
              "      <td>11/2/1946</td>\n",
              "    </tr>\n",
              "    <tr>\n",
              "      <th>seasongame</th>\n",
              "      <td>1</td>\n",
              "      <td>1</td>\n",
              "      <td>1</td>\n",
              "      <td>2</td>\n",
              "      <td>1</td>\n",
              "    </tr>\n",
              "    <tr>\n",
              "      <th>is_playoffs</th>\n",
              "      <td>0</td>\n",
              "      <td>0</td>\n",
              "      <td>0</td>\n",
              "      <td>0</td>\n",
              "      <td>0</td>\n",
              "    </tr>\n",
              "    <tr>\n",
              "      <th>team_id</th>\n",
              "      <td>TRH</td>\n",
              "      <td>NYK</td>\n",
              "      <td>CHS</td>\n",
              "      <td>NYK</td>\n",
              "      <td>DTF</td>\n",
              "    </tr>\n",
              "    <tr>\n",
              "      <th>fran_id</th>\n",
              "      <td>Huskies</td>\n",
              "      <td>Knicks</td>\n",
              "      <td>Stags</td>\n",
              "      <td>Knicks</td>\n",
              "      <td>Falcons</td>\n",
              "    </tr>\n",
              "    <tr>\n",
              "      <th>pts</th>\n",
              "      <td>66</td>\n",
              "      <td>68</td>\n",
              "      <td>63</td>\n",
              "      <td>47</td>\n",
              "      <td>33</td>\n",
              "    </tr>\n",
              "    <tr>\n",
              "      <th>elo_i</th>\n",
              "      <td>1300</td>\n",
              "      <td>1300</td>\n",
              "      <td>1300</td>\n",
              "      <td>1306.72</td>\n",
              "      <td>1300</td>\n",
              "    </tr>\n",
              "    <tr>\n",
              "      <th>elo_n</th>\n",
              "      <td>1293.28</td>\n",
              "      <td>1306.72</td>\n",
              "      <td>1309.65</td>\n",
              "      <td>1297.07</td>\n",
              "      <td>1279.62</td>\n",
              "    </tr>\n",
              "    <tr>\n",
              "      <th>win_equiv</th>\n",
              "      <td>40.2948</td>\n",
              "      <td>41.7052</td>\n",
              "      <td>42.0123</td>\n",
              "      <td>40.6928</td>\n",
              "      <td>38.864</td>\n",
              "    </tr>\n",
              "    <tr>\n",
              "      <th>opp_id</th>\n",
              "      <td>NYK</td>\n",
              "      <td>TRH</td>\n",
              "      <td>NYK</td>\n",
              "      <td>CHS</td>\n",
              "      <td>WSC</td>\n",
              "    </tr>\n",
              "    <tr>\n",
              "      <th>opp_fran</th>\n",
              "      <td>Knicks</td>\n",
              "      <td>Huskies</td>\n",
              "      <td>Knicks</td>\n",
              "      <td>Stags</td>\n",
              "      <td>Capitols</td>\n",
              "    </tr>\n",
              "    <tr>\n",
              "      <th>opp_pts</th>\n",
              "      <td>68</td>\n",
              "      <td>66</td>\n",
              "      <td>47</td>\n",
              "      <td>63</td>\n",
              "      <td>50</td>\n",
              "    </tr>\n",
              "    <tr>\n",
              "      <th>opp_elo_i</th>\n",
              "      <td>1300</td>\n",
              "      <td>1300</td>\n",
              "      <td>1306.72</td>\n",
              "      <td>1300</td>\n",
              "      <td>1300</td>\n",
              "    </tr>\n",
              "    <tr>\n",
              "      <th>opp_elo_n</th>\n",
              "      <td>1306.72</td>\n",
              "      <td>1293.28</td>\n",
              "      <td>1297.07</td>\n",
              "      <td>1309.65</td>\n",
              "      <td>1320.38</td>\n",
              "    </tr>\n",
              "    <tr>\n",
              "      <th>game_location</th>\n",
              "      <td>H</td>\n",
              "      <td>A</td>\n",
              "      <td>H</td>\n",
              "      <td>A</td>\n",
              "      <td>H</td>\n",
              "    </tr>\n",
              "    <tr>\n",
              "      <th>game_result</th>\n",
              "      <td>L</td>\n",
              "      <td>W</td>\n",
              "      <td>W</td>\n",
              "      <td>L</td>\n",
              "      <td>L</td>\n",
              "    </tr>\n",
              "    <tr>\n",
              "      <th>forecast</th>\n",
              "      <td>0.640065</td>\n",
              "      <td>0.359935</td>\n",
              "      <td>0.631101</td>\n",
              "      <td>0.368899</td>\n",
              "      <td>0.640065</td>\n",
              "    </tr>\n",
              "    <tr>\n",
              "      <th>notes</th>\n",
              "      <td>NaN</td>\n",
              "      <td>NaN</td>\n",
              "      <td>NaN</td>\n",
              "      <td>NaN</td>\n",
              "      <td>NaN</td>\n",
              "    </tr>\n",
              "  </tbody>\n",
              "</table>\n",
              "</div>"
            ],
            "text/plain": [
              "                          0             1  ...             3             4\n",
              "gameorder                 1             1  ...             2             3\n",
              "game_id        194611010TRH  194611010TRH  ...  194611020CHS  194611020DTF\n",
              "lg_id                   NBA           NBA  ...           NBA           NBA\n",
              "_iscopy                   0             1  ...             1             0\n",
              "year_id                1947          1947  ...          1947          1947\n",
              "date_game         11/1/1946     11/1/1946  ...     11/2/1946     11/2/1946\n",
              "seasongame                1             1  ...             2             1\n",
              "is_playoffs               0             0  ...             0             0\n",
              "team_id                 TRH           NYK  ...           NYK           DTF\n",
              "fran_id             Huskies        Knicks  ...        Knicks       Falcons\n",
              "pts                      66            68  ...            47            33\n",
              "elo_i                  1300          1300  ...       1306.72          1300\n",
              "elo_n               1293.28       1306.72  ...       1297.07       1279.62\n",
              "win_equiv           40.2948       41.7052  ...       40.6928        38.864\n",
              "opp_id                  NYK           TRH  ...           CHS           WSC\n",
              "opp_fran             Knicks       Huskies  ...         Stags      Capitols\n",
              "opp_pts                  68            66  ...            63            50\n",
              "opp_elo_i              1300          1300  ...          1300          1300\n",
              "opp_elo_n           1306.72       1293.28  ...       1309.65       1320.38\n",
              "game_location             H             A  ...             A             H\n",
              "game_result               L             W  ...             L             L\n",
              "forecast           0.640065      0.359935  ...      0.368899      0.640065\n",
              "notes                   NaN           NaN  ...           NaN           NaN\n",
              "\n",
              "[23 rows x 5 columns]"
            ]
          },
          "metadata": {
            "tags": []
          },
          "execution_count": 111
        }
      ]
    },
    {
      "cell_type": "markdown",
      "metadata": {
        "id": "Yzv6mnWvG18p"
      },
      "source": [
        "## Basic Pandas functions for EDA"
      ]
    },
    {
      "cell_type": "markdown",
      "metadata": {
        "id": "uDL0c9EaG18p"
      },
      "source": [
        "You don't have to be all fancy and smart to perform basic EDA. Most of EDA features several basic operations, and Pandas the process accessible."
      ]
    },
    {
      "cell_type": "markdown",
      "metadata": {
        "id": "u0ck-Y-NG18p"
      },
      "source": [
        "## Basic descriptive statistics"
      ]
    },
    {
      "cell_type": "markdown",
      "metadata": {
        "id": "Plq5B0vXG18q"
      },
      "source": [
        "[Mean](https://pandas.pydata.org/pandas-docs/stable/reference/api/pandas.DataFrame.mean.html) value, [Median](https://pandas.pydata.org/pandas-docs/stable/reference/api/pandas.DataFrame.median.html) value, [standard deviation](https://pandas.pydata.org/pandas-docs/stable/reference/api/pandas.DataFrame.std.html), [minimum](https://pandas.pydata.org/pandas-docs/stable/reference/api/pandas.DataFrame.min.html), [maximum](https://pandas.pydata.org/pandas-docs/stable/reference/api/pandas.DataFrame.max.html) values, [quantiles](https://pandas.pydata.org/pandas-docs/stable/reference/api/pandas.DataFrame.quantile.html). These are the data properties you should explore first."
      ]
    },
    {
      "cell_type": "markdown",
      "metadata": {
        "id": "aMLl04jiG18q"
      },
      "source": [
        "### Exercise - exploring the scores"
      ]
    },
    {
      "cell_type": "markdown",
      "metadata": {
        "id": "xuk5vPkPG18q"
      },
      "source": [
        "Calculate the mean `avg_pts`, `median_pts`, minimum `min_pts` and maximum `max_pts` values of points scored by NBA players using the dataset loaded before. To make things spicy, calculate quantiles at every 5% `quantiles`. How does the distribution look like? Why?"
      ]
    },
    {
      "cell_type": "code",
      "metadata": {
        "id": "CFlHTs9BG18q"
      },
      "source": [
        "import numpy as np\n",
        "#MEAN\n",
        "avg_pts = df1['pts'].mean()\n",
        "#MEDIAN\n",
        "median_pts = df1['pts'].median()\n",
        "#MINIMUM\n",
        "min_pts = df1['pts'].min()\n",
        "#MAXIMUM\n",
        "max_pts = df1['pts'].max()\n",
        "#QUANTILES\n",
        "#Quantiles sequence is created:\n",
        "qseq = np.arange(0.0, 1.0, 0.05)\n",
        "quantiles = df1['pts'].quantile(qseq)\n",
        "#DISTRIBUTION\n",
        "#Standard deviation\n",
        "std_pts = df1['pts'].std()\n",
        "#Coefficient of Variation (CV)\n",
        "CV = std_pts/avg_pts\n",
        "#How does the distribution look like? Why?\n",
        "#CV is less than 1. It shows that the Standard Deviation is low. The lower is standard deviation, the less spread out a data distribution. \n",
        "#Why?\n",
        "#Because data are concentrated around the mean.\n",
        "assert round(avg_pts, 1) == 102.7\n",
        "assert round(median_pts, 1) == 103\n",
        "np.testing.assert_array_almost_equal(quantiles,  \n",
        "  [0.0,\n",
        "  79.0,\n",
        "  84.0,\n",
        "  88.0,\n",
        "  91.0,\n",
        "  93.0,\n",
        "  95.0,\n",
        "  97.0,\n",
        "  99.0,\n",
        "  101.0,\n",
        "  103.0,\n",
        "  104.0,\n",
        "  106.0,\n",
        "  108.0,\n",
        "  110.0,\n",
        "  112.0,\n",
        "  115.0,\n",
        "  118.0,\n",
        "  122.0,\n",
        "  127.0])\n",
        "assert round(max_pts, 2) == 186\n",
        "assert round(min_pts, 2) == 0"
      ],
      "execution_count": 112,
      "outputs": []
    },
    {
      "cell_type": "markdown",
      "metadata": {
        "id": "fsG3FEUzG18q"
      },
      "source": [
        "## Grouping, Aggregations"
      ]
    },
    {
      "cell_type": "markdown",
      "metadata": {
        "id": "6RcpD6cnG18r"
      },
      "source": [
        "Read this [tutorial](https://jakevdp.github.io/PythonDataScienceHandbook/03.08-aggregation-and-grouping.html#GroupBy:-Split,-Apply,-Combine) from Data Science Handbook to get familiar with the philosophy of groupby and the API of grouping in Pandas."
      ]
    },
    {
      "cell_type": "markdown",
      "metadata": {
        "id": "YD6nS2msG18r"
      },
      "source": [
        "### Exercise - slice and measure"
      ]
    },
    {
      "cell_type": "markdown",
      "metadata": {
        "id": "l-kEXK0VG18r"
      },
      "source": [
        "Global statistics are biased - not all teams score 100 points per game, some teams performs above average.\n",
        "\n",
        "Find 5 teams (by fran_id) with most average points scored per game. Save as `five_best_teams`."
      ]
    },
    {
      "cell_type": "code",
      "metadata": {
        "id": "xIYPhFH7G18r",
        "colab": {
          "base_uri": "https://localhost:8080/",
          "height": 680
        },
        "outputId": "3a899d87-d5ff-44b7-e61d-c92173edeaea"
      },
      "source": [
        "#The average points of each team:\n",
        "teams_mean = df1.groupby('fran_id')['pts'].mean()\n",
        "#TOP5\n",
        "five_best_teams = teams_mean.nlargest(5)\n",
        "print(five_best_teams)\n",
        "np.testing.assert_array_almost_equal(five_best_teams[\"pts\"].values, [115.44651163, 114.05131414, 112.65454545, 112.35449735, 111.62529551])\n"
      ],
      "execution_count": 113,
      "outputs": [
        {
          "output_type": "stream",
          "text": [
            "fran_id\n",
            "Condors       115.446512\n",
            "Squires       114.051314\n",
            "Floridians    112.654545\n",
            "Stars         112.354497\n",
            "Colonels      111.625296\n",
            "Name: pts, dtype: float64\n"
          ],
          "name": "stdout"
        },
        {
          "output_type": "error",
          "ename": "KeyError",
          "evalue": "ignored",
          "traceback": [
            "\u001b[0;31m---------------------------------------------------------------------------\u001b[0m",
            "\u001b[0;31mKeyError\u001b[0m                                  Traceback (most recent call last)",
            "\u001b[0;32m/usr/local/lib/python3.7/dist-packages/pandas/core/indexes/base.py\u001b[0m in \u001b[0;36mget_loc\u001b[0;34m(self, key, method, tolerance)\u001b[0m\n\u001b[1;32m   2897\u001b[0m             \u001b[0;32mtry\u001b[0m\u001b[0;34m:\u001b[0m\u001b[0;34m\u001b[0m\u001b[0;34m\u001b[0m\u001b[0m\n\u001b[0;32m-> 2898\u001b[0;31m                 \u001b[0;32mreturn\u001b[0m \u001b[0mself\u001b[0m\u001b[0;34m.\u001b[0m\u001b[0m_engine\u001b[0m\u001b[0;34m.\u001b[0m\u001b[0mget_loc\u001b[0m\u001b[0;34m(\u001b[0m\u001b[0mcasted_key\u001b[0m\u001b[0;34m)\u001b[0m\u001b[0;34m\u001b[0m\u001b[0;34m\u001b[0m\u001b[0m\n\u001b[0m\u001b[1;32m   2899\u001b[0m             \u001b[0;32mexcept\u001b[0m \u001b[0mKeyError\u001b[0m \u001b[0;32mas\u001b[0m \u001b[0merr\u001b[0m\u001b[0;34m:\u001b[0m\u001b[0;34m\u001b[0m\u001b[0;34m\u001b[0m\u001b[0m\n",
            "\u001b[0;32mpandas/_libs/index.pyx\u001b[0m in \u001b[0;36mpandas._libs.index.IndexEngine.get_loc\u001b[0;34m()\u001b[0m\n",
            "\u001b[0;32mpandas/_libs/index.pyx\u001b[0m in \u001b[0;36mpandas._libs.index.IndexEngine.get_loc\u001b[0;34m()\u001b[0m\n",
            "\u001b[0;32mpandas/_libs/hashtable_class_helper.pxi\u001b[0m in \u001b[0;36mpandas._libs.hashtable.PyObjectHashTable.get_item\u001b[0;34m()\u001b[0m\n",
            "\u001b[0;32mpandas/_libs/hashtable_class_helper.pxi\u001b[0m in \u001b[0;36mpandas._libs.hashtable.PyObjectHashTable.get_item\u001b[0;34m()\u001b[0m\n",
            "\u001b[0;31mKeyError\u001b[0m: 'pts'",
            "\nThe above exception was the direct cause of the following exception:\n",
            "\u001b[0;31mKeyError\u001b[0m                                  Traceback (most recent call last)",
            "\u001b[0;32m<ipython-input-113-cf358a1bf5a4>\u001b[0m in \u001b[0;36m<module>\u001b[0;34m()\u001b[0m\n\u001b[1;32m      4\u001b[0m \u001b[0mfive_best_teams\u001b[0m \u001b[0;34m=\u001b[0m \u001b[0mteams_mean\u001b[0m\u001b[0;34m.\u001b[0m\u001b[0mnlargest\u001b[0m\u001b[0;34m(\u001b[0m\u001b[0;36m5\u001b[0m\u001b[0;34m)\u001b[0m\u001b[0;34m\u001b[0m\u001b[0;34m\u001b[0m\u001b[0m\n\u001b[1;32m      5\u001b[0m \u001b[0mprint\u001b[0m\u001b[0;34m(\u001b[0m\u001b[0mfive_best_teams\u001b[0m\u001b[0;34m)\u001b[0m\u001b[0;34m\u001b[0m\u001b[0;34m\u001b[0m\u001b[0m\n\u001b[0;32m----> 6\u001b[0;31m \u001b[0mnp\u001b[0m\u001b[0;34m.\u001b[0m\u001b[0mtesting\u001b[0m\u001b[0;34m.\u001b[0m\u001b[0massert_array_almost_equal\u001b[0m\u001b[0;34m(\u001b[0m\u001b[0mfive_best_teams\u001b[0m\u001b[0;34m[\u001b[0m\u001b[0;34m\"pts\"\u001b[0m\u001b[0;34m]\u001b[0m\u001b[0;34m.\u001b[0m\u001b[0mvalues\u001b[0m\u001b[0;34m,\u001b[0m \u001b[0;34m[\u001b[0m\u001b[0;36m115.44651163\u001b[0m\u001b[0;34m,\u001b[0m \u001b[0;36m114.05131414\u001b[0m\u001b[0;34m,\u001b[0m \u001b[0;36m112.65454545\u001b[0m\u001b[0;34m,\u001b[0m \u001b[0;36m112.35449735\u001b[0m\u001b[0;34m,\u001b[0m \u001b[0;36m111.62529551\u001b[0m\u001b[0;34m]\u001b[0m\u001b[0;34m)\u001b[0m\u001b[0;34m\u001b[0m\u001b[0;34m\u001b[0m\u001b[0m\n\u001b[0m",
            "\u001b[0;32m/usr/local/lib/python3.7/dist-packages/pandas/core/series.py\u001b[0m in \u001b[0;36m__getitem__\u001b[0;34m(self, key)\u001b[0m\n\u001b[1;32m    880\u001b[0m \u001b[0;34m\u001b[0m\u001b[0m\n\u001b[1;32m    881\u001b[0m         \u001b[0;32melif\u001b[0m \u001b[0mkey_is_scalar\u001b[0m\u001b[0;34m:\u001b[0m\u001b[0;34m\u001b[0m\u001b[0;34m\u001b[0m\u001b[0m\n\u001b[0;32m--> 882\u001b[0;31m             \u001b[0;32mreturn\u001b[0m \u001b[0mself\u001b[0m\u001b[0;34m.\u001b[0m\u001b[0m_get_value\u001b[0m\u001b[0;34m(\u001b[0m\u001b[0mkey\u001b[0m\u001b[0;34m)\u001b[0m\u001b[0;34m\u001b[0m\u001b[0;34m\u001b[0m\u001b[0m\n\u001b[0m\u001b[1;32m    883\u001b[0m \u001b[0;34m\u001b[0m\u001b[0m\n\u001b[1;32m    884\u001b[0m         \u001b[0;32mif\u001b[0m \u001b[0mis_hashable\u001b[0m\u001b[0;34m(\u001b[0m\u001b[0mkey\u001b[0m\u001b[0;34m)\u001b[0m\u001b[0;34m:\u001b[0m\u001b[0;34m\u001b[0m\u001b[0;34m\u001b[0m\u001b[0m\n",
            "\u001b[0;32m/usr/local/lib/python3.7/dist-packages/pandas/core/series.py\u001b[0m in \u001b[0;36m_get_value\u001b[0;34m(self, label, takeable)\u001b[0m\n\u001b[1;32m    988\u001b[0m \u001b[0;34m\u001b[0m\u001b[0m\n\u001b[1;32m    989\u001b[0m         \u001b[0;31m# Similar to Index.get_value, but we do not fall back to positional\u001b[0m\u001b[0;34m\u001b[0m\u001b[0;34m\u001b[0m\u001b[0;34m\u001b[0m\u001b[0m\n\u001b[0;32m--> 990\u001b[0;31m         \u001b[0mloc\u001b[0m \u001b[0;34m=\u001b[0m \u001b[0mself\u001b[0m\u001b[0;34m.\u001b[0m\u001b[0mindex\u001b[0m\u001b[0;34m.\u001b[0m\u001b[0mget_loc\u001b[0m\u001b[0;34m(\u001b[0m\u001b[0mlabel\u001b[0m\u001b[0;34m)\u001b[0m\u001b[0;34m\u001b[0m\u001b[0;34m\u001b[0m\u001b[0m\n\u001b[0m\u001b[1;32m    991\u001b[0m         \u001b[0;32mreturn\u001b[0m \u001b[0mself\u001b[0m\u001b[0;34m.\u001b[0m\u001b[0mindex\u001b[0m\u001b[0;34m.\u001b[0m\u001b[0m_get_values_for_loc\u001b[0m\u001b[0;34m(\u001b[0m\u001b[0mself\u001b[0m\u001b[0;34m,\u001b[0m \u001b[0mloc\u001b[0m\u001b[0;34m,\u001b[0m \u001b[0mlabel\u001b[0m\u001b[0;34m)\u001b[0m\u001b[0;34m\u001b[0m\u001b[0;34m\u001b[0m\u001b[0m\n\u001b[1;32m    992\u001b[0m \u001b[0;34m\u001b[0m\u001b[0m\n",
            "\u001b[0;32m/usr/local/lib/python3.7/dist-packages/pandas/core/indexes/base.py\u001b[0m in \u001b[0;36mget_loc\u001b[0;34m(self, key, method, tolerance)\u001b[0m\n\u001b[1;32m   2898\u001b[0m                 \u001b[0;32mreturn\u001b[0m \u001b[0mself\u001b[0m\u001b[0;34m.\u001b[0m\u001b[0m_engine\u001b[0m\u001b[0;34m.\u001b[0m\u001b[0mget_loc\u001b[0m\u001b[0;34m(\u001b[0m\u001b[0mcasted_key\u001b[0m\u001b[0;34m)\u001b[0m\u001b[0;34m\u001b[0m\u001b[0;34m\u001b[0m\u001b[0m\n\u001b[1;32m   2899\u001b[0m             \u001b[0;32mexcept\u001b[0m \u001b[0mKeyError\u001b[0m \u001b[0;32mas\u001b[0m \u001b[0merr\u001b[0m\u001b[0;34m:\u001b[0m\u001b[0;34m\u001b[0m\u001b[0;34m\u001b[0m\u001b[0m\n\u001b[0;32m-> 2900\u001b[0;31m                 \u001b[0;32mraise\u001b[0m \u001b[0mKeyError\u001b[0m\u001b[0;34m(\u001b[0m\u001b[0mkey\u001b[0m\u001b[0;34m)\u001b[0m \u001b[0;32mfrom\u001b[0m \u001b[0merr\u001b[0m\u001b[0;34m\u001b[0m\u001b[0;34m\u001b[0m\u001b[0m\n\u001b[0m\u001b[1;32m   2901\u001b[0m \u001b[0;34m\u001b[0m\u001b[0m\n\u001b[1;32m   2902\u001b[0m         \u001b[0;32mif\u001b[0m \u001b[0mtolerance\u001b[0m \u001b[0;32mis\u001b[0m \u001b[0;32mnot\u001b[0m \u001b[0;32mNone\u001b[0m\u001b[0;34m:\u001b[0m\u001b[0;34m\u001b[0m\u001b[0;34m\u001b[0m\u001b[0m\n",
            "\u001b[0;31mKeyError\u001b[0m: 'pts'"
          ]
        }
      ]
    },
    {
      "cell_type": "markdown",
      "metadata": {
        "id": "8u_uhy4cG18r"
      },
      "source": [
        "## Basic Visualizations"
      ]
    },
    {
      "cell_type": "markdown",
      "metadata": {
        "id": "GXuxno3kG18s"
      },
      "source": [
        "Although at the end of this week you will have learned some fancy ways of visualizing data with matplotlib and Seaborn, Pandas exposes some basic visualization API, which is quite useful for many basic cases."
      ]
    },
    {
      "cell_type": "markdown",
      "metadata": {
        "id": "QlS-0iiXG18s"
      },
      "source": [
        "Let's start with some readings. Go through a official Pandas [tutorial](https://pandas.pydata.org/docs/user_guide/visualization.html) on the visualizations API. Copy-paste the code, try to run it in the notebook."
      ]
    },
    {
      "cell_type": "code",
      "metadata": {
        "colab": {
          "base_uri": "https://localhost:8080/",
          "height": 277
        },
        "id": "pRgEqNAwfmhe",
        "outputId": "930388af-c7c8-4420-9a3f-9dc0ea616ed0"
      },
      "source": [
        "In [1]: import matplotlib.pyplot as plt\n",
        "\n",
        "In [2]: plt.close(\"all\")\n",
        "In [3]: ts = pd.Series(np.random.randn(1000), index=pd.date_range(\"1/1/2000\", periods=1000))\n",
        "\n",
        "In [4]: ts = ts.cumsum()\n",
        "\n",
        "In [5]: ts.plot();"
      ],
      "execution_count": 114,
      "outputs": [
        {
          "output_type": "display_data",
          "data": {
            "image/png": "[encoded data removed]",
            "text/plain": [
              "<Figure size 432x288 with 1 Axes>"
            ]
          },
          "metadata": {
            "tags": [],
            "needs_background": "light"
          }
        }
      ]
    },
    {
      "cell_type": "markdown",
      "metadata": {
        "id": "GXAZEkWtG18s"
      },
      "source": [
        "### Exercise - let's visualize the games!"
      ]
    },
    {
      "cell_type": "markdown",
      "metadata": {
        "id": "ML_jzE_UG18s"
      },
      "source": [
        "Visualize top 10 teams who score most / least on average per play. Use a bar chart for that."
      ]
    },
    {
      "cell_type": "code",
      "metadata": {
        "colab": {
          "base_uri": "https://localhost:8080/",
          "height": 338
        },
        "id": "uGu-oSPTfGl1",
        "outputId": "f84ec535-1aa0-40d5-be3b-823132b71798"
      },
      "source": [
        "#Finding TOP10 (most scores)\n",
        "ten_best_teams = teams_mean.nlargest(10)\n",
        "#Visualizing TOP10\n",
        "ten_best_teams.plot.bar(legend=True)\n"
      ],
      "execution_count": 115,
      "outputs": [
        {
          "output_type": "execute_result",
          "data": {
            "text/plain": [
              "<matplotlib.axes._subplots.AxesSubplot at 0x7fdf8fc84f50>"
            ]
          },
          "metadata": {
            "tags": []
          },
          "execution_count": 115
        },
        {
          "output_type": "display_data",
          "data": {
            "image/png": "[encoded data removed]",
            "text/plain": [
              "<Figure size 432x288 with 1 Axes>"
            ]
          },
          "metadata": {
            "tags": [],
            "needs_background": "light"
          }
        }
      ]
    },
    {
      "cell_type": "markdown",
      "metadata": {
        "id": "8oyxFU8EG18s"
      },
      "source": [
        "You should see a result as follows:\n",
        "<div><img src=\"https://i.imgur.com/io7fvju.png\" /></div>"
      ]
    },
    {
      "cell_type": "code",
      "metadata": {
        "colab": {
          "base_uri": "https://localhost:8080/",
          "height": 350
        },
        "id": "HypdiLKJhZ74",
        "outputId": "f5c58247-48b2-482a-80b3-b68e0b6a08ec"
      },
      "source": [
        "#Finding TOP10 (least scores)\n",
        "ten_worst_teams = teams_mean.nsmallest(10)\n",
        "#Visualization of TOP10\n",
        "ten_worst_teams.plot.bar(legend=True)\n"
      ],
      "execution_count": 116,
      "outputs": [
        {
          "output_type": "execute_result",
          "data": {
            "text/plain": [
              "<matplotlib.axes._subplots.AxesSubplot at 0x7fdf8fbeffd0>"
            ]
          },
          "metadata": {
            "tags": []
          },
          "execution_count": 116
        },
        {
          "output_type": "display_data",
          "data": {
            "image/png": "[encoded data removed]",
            "text/plain": [
              "<Figure size 432x288 with 1 Axes>"
            ]
          },
          "metadata": {
            "tags": [],
            "needs_background": "light"
          }
        }
      ]
    },
    {
      "cell_type": "markdown",
      "metadata": {
        "id": "dW8b6nxfG18t"
      },
      "source": [
        "You should see a result as follows:\n",
        "<div><img src=\"https://i.imgur.com/6VXMksY.png\" /></div>"
      ]
    },
    {
      "cell_type": "markdown",
      "metadata": {
        "id": "raaon4SNG18t"
      },
      "source": [
        "Now try to visualize all team scores the same way."
      ]
    },
    {
      "cell_type": "code",
      "metadata": {
        "colab": {
          "base_uri": "https://localhost:8080/",
          "height": 358
        },
        "id": "FGO59anWitMD",
        "outputId": "a00b1f4f-2e3d-4bec-92d4-9d7678224558"
      },
      "source": [
        "#Sorting\n",
        "teams_by_av_scores=teams_mean.sort_values()\n",
        "#Visualization\n",
        "teams_by_av_scores.plot.bar(legend=True)"
      ],
      "execution_count": 117,
      "outputs": [
        {
          "output_type": "execute_result",
          "data": {
            "text/plain": [
              "<matplotlib.axes._subplots.AxesSubplot at 0x7fdf8fc1fa90>"
            ]
          },
          "metadata": {
            "tags": []
          },
          "execution_count": 117
        },
        {
          "output_type": "display_data",
          "data": {
            "image/png": "[encoded data removed]",
            "text/plain": [
              "<Figure size 432x288 with 1 Axes>"
            ]
          },
          "metadata": {
            "tags": [],
            "needs_background": "light"
          }
        }
      ]
    },
    {
      "cell_type": "markdown",
      "metadata": {
        "id": "OVB5_ciGG18t"
      },
      "source": [
        "You should see a result as follows:\n",
        "<div><img src=\"https://i.imgur.com/L2iTGuC.png\" /></div>"
      ]
    },
    {
      "cell_type": "markdown",
      "metadata": {
        "id": "WzwAyhfRG18t"
      },
      "source": [
        "The results do not seem that intriguing. Although, it seems that the slope of 60-95 scoring teams and 100-120 is steeper than mid-section of the curve. Which indicates that most teams score around 100 points.\n",
        "\n",
        "A histogram could enhance these frequency differences. Plot the data with a `hist` type with 20 bins. Would you guess what kind of distribution does it (nearly) follow?"
      ]
    },
    {
      "cell_type": "code",
      "metadata": {
        "colab": {
          "base_uri": "https://localhost:8080/",
          "height": 282
        },
        "id": "gGkzaaUVlwbr",
        "outputId": "137c24c1-7f51-449c-a3f5-c9603c87c395"
      },
      "source": [
        "#Visualizing The histogram:\n",
        "teams_by_av_scores.plot.hist(bins=20, legend=True)"
      ],
      "execution_count": 118,
      "outputs": [
        {
          "output_type": "execute_result",
          "data": {
            "text/plain": [
              "<matplotlib.axes._subplots.AxesSubplot at 0x7fdf877cb8d0>"
            ]
          },
          "metadata": {
            "tags": []
          },
          "execution_count": 118
        },
        {
          "output_type": "display_data",
          "data": {
            "image/png": "[encoded data removed]",
            "text/plain": [
              "<Figure size 432x288 with 1 Axes>"
            ]
          },
          "metadata": {
            "tags": [],
            "needs_background": "light"
          }
        }
      ]
    },
    {
      "cell_type": "markdown",
      "metadata": {
        "id": "GO1FSYhwG18t"
      },
      "source": [
        "You should see a result as follows:\n",
        "<div><img src=\"https://i.imgur.com/Pc3sUKN.png\"/></div>"
      ]
    },
    {
      "cell_type": "markdown",
      "metadata": {
        "id": "7n9dh3KnG18t"
      },
      "source": [
        "Seems like most teams do score ~100 - 105 points per game. The kind of distribution on the right is called a skewed Normal Distribution."
      ]
    },
    {
      "cell_type": "markdown",
      "metadata": {
        "id": "yqUYuXDLG18t"
      },
      "source": [
        "There's one more often used plot type to explore - a **line chart**. Your task is to visualize Los Angeles Lakers wins per years. Which year has been most successful for the team?"
      ]
    },
    {
      "cell_type": "code",
      "metadata": {
        "colab": {
          "base_uri": "https://localhost:8080/"
        },
        "id": "kyd6eGC4neg0",
        "outputId": "07c6675e-7d11-4bc2-845a-218f3754e319"
      },
      "source": [
        "#Taking the required columns\n",
        "filter_data = df1.filter(['fran_id','year_id','game_result'])\n",
        "#Leaving only Lakers data\n",
        "Lakers = filter_data['fran_id']=='Lakers'\n",
        "Lakers_wins = filter_data[Lakers]\n",
        "#Grouping\n",
        "Count_wins = Lakers_wins[Lakers_wins['game_result']=='W'].groupby('year_id')['game_result'].count()\n",
        "#Visualization\n",
        "Count_wins.plot.bar"
      ],
      "execution_count": 119,
      "outputs": [
        {
          "output_type": "execute_result",
          "data": {
            "text/plain": [
              "<bound method PlotAccessor.bar of <pandas.plotting._core.PlotAccessor object at 0x7fdf87381ed0>>"
            ]
          },
          "metadata": {
            "tags": []
          },
          "execution_count": 119
        }
      ]
    },
    {
      "cell_type": "code",
      "metadata": {
        "id": "-JeMs4jvygTb"
      },
      "source": [
        ""
      ],
      "execution_count": null,
      "outputs": []
    },
    {
      "cell_type": "markdown",
      "metadata": {
        "id": "dpM8Q3Q5G18u"
      },
      "source": [
        "From the chart, it should be clear that LAL success is periodic - 10 to 20 years they win about 80 times per year."
      ]
    },
    {
      "cell_type": "markdown",
      "metadata": {
        "id": "rCMrrLzlG18u"
      },
      "source": [
        "## Exercise"
      ]
    },
    {
      "cell_type": "markdown",
      "metadata": {
        "id": "3sdVCQdoG18u"
      },
      "source": [
        "For our last exercise for the day, we'll be exploring statistics of U.S. births."
      ]
    },
    {
      "cell_type": "markdown",
      "metadata": {
        "id": "RB1FB-63G18u"
      },
      "source": [
        "Here's the [link](https://raw.githubusercontent.com/fivethirtyeight/data/master/births/US_births_2000-2014_SSA.csv) to the dataset."
      ]
    },
    {
      "cell_type": "markdown",
      "metadata": {
        "id": "jUR2gTpoG18u"
      },
      "source": [
        "Your objective is to answer the following questions (writing the answers in this notebook):\n",
        "\n",
        "* How does the month impact childbirth?\n",
        "* Have there been any significants ups / downs in chilbirth throughout the years? Could you explain them?\n",
        "* Which days of the week children are born most frequently on?\n",
        "* What's the lowest/biggest amount of childbirths per month?\n",
        "* Which months are most / least predictable in terms of childbirth? (hint - use standard deviation)\n",
        "\n",
        "Requirements:\n",
        "* Dataset is loaded from a remote CSV.\n",
        "* Basic EDA Pandas statistical functions are used (min, max, mean, std).\n",
        "* Grouping and aggregations.\n",
        "* Charts used: line, bar plot."
      ]
    },
    {
      "cell_type": "markdown",
      "metadata": {
        "id": "P_9wMU8JjTZN"
      },
      "source": [
        ""
      ]
    },
    {
      "cell_type": "markdown",
      "metadata": {
        "id": "-QZSri_ppllV"
      },
      "source": [
        "**ANSWERS:**\n",
        "\n",
        "(below you will find codes and calculations which helped me answer the questions)\n",
        "\n",
        "1. Lowest amount quantity of births is in February (It could be, because it is the shortest month). From June to August births rate increase and reach the peak. After that is starts dicreasing.\n",
        "\n",
        "2. It has been. The significant up was in 2006 and the significant downs was in 2009-2010. I think it could be affected by Financial crisis in 2007-2008. People have a lot of money before it because of inflation, they have possibilities to raise children, so we see the result - birth rate growth. The opposite situation was after the crisis. \n",
        "\n",
        "3. From Tuesday to Thursday.\n",
        "\n",
        "4. The biggest amount - 5540170, the lowest amount - 4725693 per month. \n",
        "\n",
        "5. The least predictable is February, because the Coefficient of Variation is the largest. The most predictable is December, because the Coefficient of Variation is the smallest. "
      ]
    },
    {
      "cell_type": "code",
      "metadata": {
        "colab": {
          "base_uri": "https://localhost:8080/",
          "height": 647
        },
        "id": "gw-i2tMujTH5",
        "outputId": "e1735416-a0c5-4c20-8786-bf67924c7187"
      },
      "source": [
        "#loading data\n",
        "url_births = \"https://raw.githubusercontent.com/fivethirtyeight/data/master/births/US_births_2000-2014_SSA.csv\"\n",
        "df_births = pd.read_csv(url_births)\n",
        "print(df_births.head())\n",
        "#1 QUESTION\n",
        "#Birth rate each month\n",
        "births_month=df_births.groupby('month')['births'].sum()\n",
        "print(births_month)\n",
        "#Visualizing birth rate\n",
        "births_month.plot.line()  "
      ],
      "execution_count": 120,
      "outputs": [
        {
          "output_type": "stream",
          "text": [
            "   year  month  date_of_month  day_of_week  births\n",
            "0  2000      1              1            6    9083\n",
            "1  2000      1              2            7    8006\n",
            "2  2000      1              3            1   11363\n",
            "3  2000      1              4            2   13032\n",
            "4  2000      1              5            3   12558\n",
            "month\n",
            "1     5072588\n",
            "2     4725693\n",
            "3     5172961\n",
            "4     4960750\n",
            "5     5195445\n",
            "6     5163360\n",
            "7     5450418\n",
            "8     5540170\n",
            "9     5399592\n",
            "10    5302865\n",
            "11    5008750\n",
            "12    5194432\n",
            "Name: births, dtype: int64\n"
          ],
          "name": "stdout"
        },
        {
          "output_type": "execute_result",
          "data": {
            "text/plain": [
              "<matplotlib.axes._subplots.AxesSubplot at 0x7fdf86b2e750>"
            ]
          },
          "metadata": {
            "tags": []
          },
          "execution_count": 120
        },
        {
          "output_type": "display_data",
          "data": {
            "image/png": "[encoded data removed]",
            "text/plain": [
              "<Figure size 432x288 with 1 Axes>"
            ]
          },
          "metadata": {
            "tags": [],
            "needs_background": "light"
          }
        }
      ]
    },
    {
      "cell_type": "code",
      "metadata": {
        "colab": {
          "base_uri": "https://localhost:8080/",
          "height": 596
        },
        "id": "-EdSSs1vreu9",
        "outputId": "4bca6ad9-83cc-4144-9b5f-5374d99644b8"
      },
      "source": [
        "#2 QUESTION\n",
        "#Birth rate each year\n",
        "births_year=df_births.groupby('year')['births'].sum()\n",
        "#Percentage difference\n",
        "births_year_change=round(births_year.pct_change()*100,2)\n",
        "print(births_year_change)\n",
        "#Visualizing births of every year\n",
        "births_year.plot.line()"
      ],
      "execution_count": 121,
      "outputs": [
        {
          "output_type": "stream",
          "text": [
            "year\n",
            "2000     NaN\n",
            "2001   -0.93\n",
            "2002   -0.28\n",
            "2003    1.56\n",
            "2004    0.57\n",
            "2005    0.60\n",
            "2006    2.93\n",
            "2007    1.05\n",
            "2008   -1.60\n",
            "2009   -2.78\n",
            "2010   -3.22\n",
            "2011   -1.21\n",
            "2012   -0.15\n",
            "2013   -0.69\n",
            "2014    0.94\n",
            "Name: births, dtype: float64\n"
          ],
          "name": "stdout"
        },
        {
          "output_type": "execute_result",
          "data": {
            "text/plain": [
              "<matplotlib.axes._subplots.AxesSubplot at 0x7fdf87724690>"
            ]
          },
          "metadata": {
            "tags": []
          },
          "execution_count": 121
        },
        {
          "output_type": "display_data",
          "data": {
            "image/png": "[encoded data removed]",
            "text/plain": [
              "<Figure size 432x288 with 1 Axes>"
            ]
          },
          "metadata": {
            "tags": [],
            "needs_background": "light"
          }
        }
      ]
    },
    {
      "cell_type": "code",
      "metadata": {
        "colab": {
          "base_uri": "https://localhost:8080/",
          "height": 458
        },
        "id": "jXCWqNqgt9-6",
        "outputId": "695b8238-64b5-4c39-c9b3-445aec3dddd3"
      },
      "source": [
        "#3 QUESTION\n",
        "#Birth rate each week day\n",
        "births_day=df_births.groupby('day_of_week')['births'].sum()\n",
        "print(births_day)\n",
        "#Visualizing\n",
        "births_day.plot.bar()"
      ],
      "execution_count": 122,
      "outputs": [
        {
          "output_type": "stream",
          "text": [
            "day_of_week\n",
            "1     9316001\n",
            "2    10274874\n",
            "3    10109130\n",
            "4    10045436\n",
            "5     9850199\n",
            "6     6704495\n",
            "7     5886889\n",
            "Name: births, dtype: int64\n"
          ],
          "name": "stdout"
        },
        {
          "output_type": "execute_result",
          "data": {
            "text/plain": [
              "<matplotlib.axes._subplots.AxesSubplot at 0x7fdf8fb0bb50>"
            ]
          },
          "metadata": {
            "tags": []
          },
          "execution_count": 122
        },
        {
          "output_type": "display_data",
          "data": {
            "image/png": "[encoded data removed]",
            "text/plain": [
              "<Figure size 432x288 with 1 Axes>"
            ]
          },
          "metadata": {
            "tags": [],
            "needs_background": "light"
          }
        }
      ]
    },
    {
      "cell_type": "code",
      "metadata": {
        "colab": {
          "base_uri": "https://localhost:8080/"
        },
        "id": "m1HcbCIRzjRu",
        "outputId": "a2644832-1048-4321-ceb8-a219bd7371d6"
      },
      "source": [
        "# 4 QUESTION\n",
        "#MAX\n",
        "birth_month_max = births_month.max()\n",
        "print(birth_month_max)\n",
        "#MIN\n",
        "birth_month_min = births_month.min()\n",
        "print(birth_month_min)\n"
      ],
      "execution_count": 123,
      "outputs": [
        {
          "output_type": "stream",
          "text": [
            "5540170\n",
            "4725693\n"
          ],
          "name": "stdout"
        }
      ]
    },
    {
      "cell_type": "code",
      "metadata": {
        "colab": {
          "base_uri": "https://localhost:8080/"
        },
        "id": "TXiMcGCb2DEe",
        "outputId": "31db9b5c-22fe-489e-d630-da68f54f616b"
      },
      "source": [
        "# 5 QUESTION\n",
        "#births amounts grouped by year and month\n",
        "births_year_month=df_births.groupby(['year','month'])['births'].sum()\n",
        "print(births_year_month)\n",
        "#average and standard deviation of births amount per month\n",
        "births_average = round(births_year_month.groupby('month').mean())\n",
        "births_std = round(births_year_month.groupby('month').std())\n",
        "#Coefficient of Variation\n",
        "CV_month = births_std / births_average * 100\n",
        "print(CV_month)\n",
        "#Least predictable month \n",
        "cv_max = CV_month.max()\n",
        "print(cv_max)\n",
        "cv_max_month = CV_month.idxmax()\n",
        "print(cv_max_month)\n",
        "#Most predictable month\n",
        "cv_min = CV_month.min()\n",
        "print(cv_min)\n",
        "cv_min_month = CV_month.idxmin()\n",
        "print(cv_min_month)\n"
      ],
      "execution_count": 130,
      "outputs": [
        {
          "output_type": "stream",
          "text": [
            "year  month\n",
            "2000  1        337739\n",
            "      2        324046\n",
            "      3        347824\n",
            "      4        323357\n",
            "      5        347950\n",
            "                ...  \n",
            "2014  8        356066\n",
            "      9        350497\n",
            "      10       344471\n",
            "      11       318655\n",
            "      12       339726\n",
            "Name: births, Length: 180, dtype: int64\n",
            "month\n",
            "1     3.479580\n",
            "2     4.050837\n",
            "3     3.753654\n",
            "4     3.474874\n",
            "5     3.289612\n",
            "6     3.644720\n",
            "7     3.089490\n",
            "8     3.374893\n",
            "9     3.256355\n",
            "10    3.184791\n",
            "11    3.700021\n",
            "12    3.035562\n",
            "Name: births, dtype: float64\n",
            "4.0508370206255595\n",
            "2\n",
            "3.035562165205966\n",
            "12\n"
          ],
          "name": "stdout"
        }
      ]
    },
    {
      "cell_type": "markdown",
      "metadata": {
        "id": "m2qqocezG18v"
      },
      "source": [
        "## Summary"
      ]
    },
    {
      "cell_type": "markdown",
      "metadata": {
        "id": "tC04kgU4G18v"
      },
      "source": [
        "Basic EDA is what data scientists always do with when starting to work with a new dataset. It's an essential skill to possess. Though, data comes in all shapes and flavors. There's much more to plotting than Pandas APIs. This is what we'll focus on in subsequent chapters."
      ]
    },
    {
      "cell_type": "code",
      "metadata": {
        "id": "26e-4y6hG18v"
      },
      "source": [
        ""
      ],
      "execution_count": null,
      "outputs": []
    }
  ]
}